{
 "cells": [
  {
   "cell_type": "code",
   "execution_count": null,
   "id": "71ddfb1e",
   "metadata": {},
   "outputs": [],
   "source": []
  },
  {
   "cell_type": "code",
   "execution_count": 3,
   "id": "69c1993e",
   "metadata": {},
   "outputs": [],
   "source": [
    "import numpy as np\n",
    "def interpolate(n, instances,price):\n",
    "    \n",
    "    for j in range(0,len(instances)):\n",
    "        if instances[j]==n:\n",
    "            return price[j]\n",
    "    \n",
    "    \n",
    "        \n",
    "    instances=np.array(instances)\n",
    "    price =np.array(price)\n",
    "    instance_sort = instances[np.argsort(instances)]\n",
    "    price_sort= price[np.argsort(instances)]\n",
    "    \n",
    "    #print (instance_sort)\n",
    "    filter_arg = (np.where(price>0))\n",
    "    instance_sort = instance_sort[filter_arg]\n",
    "    price_sort = price_sort[filter_arg]\n",
    "    #print (instance_sort[np.argmin(np.abs(instance_sort-n))])\n",
    "    print (np.abs(instance_sort-n))\n",
    "    nearest = np.abs(instance_sort-n)\n",
    "    #print (nearest)\n",
    "    try: \n",
    "        x1=instance_sort[np.argsort(nearest)[:2]][0]\n",
    "        x2 = instance_sort[np.argsort(nearest)[:2]][1]\n",
    "        \n",
    "        y1 = price_sort[np.argsort(nearest)[:2]][0]\n",
    "        y2 = price_sort[np.argsort(nearest)[:2]][1]\n",
    "        #print (x1,x2,y1,y2)    \n",
    "        m =(y2-y1)/(x2-x1)\n",
    "        c= y1-m*x1\n",
    "        #print (m,c)\n",
    "        print (\"{:.2f}\".format(m*n+c))\n",
    "        return str(round((m*n+c)*100/100,2))\n",
    "    except:\n",
    "        return str(price_sort[0])"
   ]
  },
  {
   "cell_type": "code",
   "execution_count": 4,
   "id": "38db704e",
   "metadata": {},
   "outputs": [
    {
     "name": "stdout",
     "output_type": "stream",
     "text": [
      "[  3 498]\n",
      "4.70\n",
      "4.7\n"
     ]
    }
   ],
   "source": [
    "instances= [5,10,25,50,100,500]\n",
    "price =[5,0.0,0.0,0.0,0.0,54.25]\n",
    "\n",
    "n=2\n",
    "print (interpolate(n,instances,price))"
   ]
  },
  {
   "cell_type": "code",
   "execution_count": null,
   "id": "68562489",
   "metadata": {},
   "outputs": [],
   "source": []
  }
 ],
 "metadata": {
  "kernelspec": {
   "display_name": "Python 3",
   "language": "python",
   "name": "python3"
  },
  "language_info": {
   "codemirror_mode": {
    "name": "ipython",
    "version": 3
   },
   "file_extension": ".py",
   "mimetype": "text/x-python",
   "name": "python",
   "nbconvert_exporter": "python",
   "pygments_lexer": "ipython3",
   "version": "3.7.10"
  }
 },
 "nbformat": 4,
 "nbformat_minor": 5
}
